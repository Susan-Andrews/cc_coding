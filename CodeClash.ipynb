{
  "nbformat": 4,
  "nbformat_minor": 0,
  "metadata": {
    "colab": {
      "provenance": []
    },
    "kernelspec": {
      "name": "python3",
      "display_name": "Python 3"
    },
    "language_info": {
      "name": "python"
    }
  },
  "cells": [
    {
      "cell_type": "markdown",
      "source": [
        "<h3>Given the participants' score sheet for your University Sports Day, you are required to find the runner-up score. You are given  scores. Store them in a list and find the score of the runner-up.</h3>\n",
        "\n",
        "**Input Format** <br>\n",
        "*The first line contains . The second line contains an array   of  integers each separated by a space.*\n",
        "\n",
        "Constraints\n",
        "- 2 <= n <= 10\n",
        "- -100 <= A[i] <= 100\n",
        "\n",
        "**Output Format** <br>\n",
        "Print the runner-up score.<br><br>\n",
        "**Sample Input**<br>\n",
        "5<br>\n",
        "2 3 6 6 5<br><br>\n",
        "**Sample Output**<br>\n",
        "5\n",
        "\n",
        "**Explanation:**\n",
        "5 is the second largest (runner-up) score."
      ],
      "metadata": {
        "id": "jktXFN-XmAJ7"
      }
    },
    {
      "cell_type": "code",
      "source": [
        "if __name__ == '__main__':\n",
        "    n = int(input())\n",
        "    arr = list(map(int, input().split()))\n",
        "    arrn = list(set(arr))\n",
        "    arrn.sort()\n",
        "    print(\"Runner-up score:\",arrn[-2])"
      ],
      "metadata": {
        "colab": {
          "base_uri": "https://localhost:8080/"
        },
        "id": "Bcknzhfvl5dV",
        "outputId": "98559362-2a71-4123-838a-e3592595d2ce"
      },
      "execution_count": null,
      "outputs": [
        {
          "output_type": "stream",
          "name": "stdout",
          "text": [
            "5\n",
            "2 3 6 6 5\n",
            "Runner-up score: 5\n"
          ]
        }
      ]
    },
    {
      "cell_type": "markdown",
      "source": [
        "<br><br><hr><br><br>"
      ],
      "metadata": {
        "id": "JY9kqAJcquhq"
      }
    },
    {
      "cell_type": "markdown",
      "source": [
        "<h3>You are in charge of the cake for a child's birthday. You have decided the cake will have one candle for each year of their total age. They will only be able to blow out the tallest of the candles. Count how many candles are tallest.</h3><br>\n",
        "\n",
        "**Example**\n",
        "\n",
        "candles = [4, 4, 1, 3]<br>\n",
        "The maximum height candles are 4  units high. There are 2 of them, so return 2.\n",
        "\n",
        "**Function Description**<br>\n",
        "Complete the function *birthdayCakeCandles* in the editor below.\n",
        "*birthdayCakeCandles* has the following parameter(s):<br>\n",
        "- int candles[n]: the candle heights\n",
        "\n",
        "**Returns**<br>\n",
        "- int: the number of candles that are tallest\n",
        "\n",
        "**Input format**<br>\n",
        "The first line contains a single integer, n, the size of candles[]. \n",
        "The second line contains n space-separated integers, where each integer i describes the height of the candles[i]\n",
        "\n",
        "**Constraints**<br>\n",
        "- 1 <= n <= 10^5\n",
        "- 1 <= candles[i] <= 10^7\n",
        "\n",
        "**Sample Input**<br>\n",
        "4<br>\n",
        "3 2 1 3<br>\n",
        "\n",
        "**Sample Output**<br>\n",
        "2\n",
        "\n",
        "**Explanation:** Candle heights are [3, 2, 1, 3]. The tallest candles are 3 units, and there are 2 of them.\n"
      ],
      "metadata": {
        "id": "sS4x0Imso242"
      }
    },
    {
      "cell_type": "code",
      "source": [
        "#!/bin/python3\n",
        "\n",
        "import math\n",
        "import os\n",
        "import random\n",
        "import re\n",
        "import sys\n",
        "\n",
        "#\n",
        "# Complete the 'birthdayCakeCandles' function below.\n",
        "#\n",
        "# The function is expected to return an INTEGER.\n",
        "# The function accepts INTEGER_ARRAY candles as parameter.\n",
        "#\n",
        "\n",
        "def birthdayCakeCandles(candles):\n",
        "    n = candles.count(max(candles))\n",
        "    return n\n",
        "\n",
        "if __name__ == '__main__':\n",
        "    candles_count = int(input().strip())\n",
        "\n",
        "    candles = list(map(int, input().rstrip().split()))\n",
        "\n",
        "    result = birthdayCakeCandles(candles)\n",
        "\n",
        "    print(\"Count of tallest candle:\",result)\n"
      ],
      "metadata": {
        "colab": {
          "base_uri": "https://localhost:8080/"
        },
        "id": "PY79oBjVqsac",
        "outputId": "af2d9235-5bfb-4a2c-d9a1-676316163b23"
      },
      "execution_count": null,
      "outputs": [
        {
          "output_type": "stream",
          "name": "stdout",
          "text": [
            "5\n",
            "1 8 4 3 2\n",
            "Count of tallest candle: 1\n"
          ]
        }
      ]
    }
  ]
}
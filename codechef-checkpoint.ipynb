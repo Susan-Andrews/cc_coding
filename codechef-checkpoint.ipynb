{
 "cells": [
  {
   "cell_type": "markdown",
   "id": "c89304f3",
   "metadata": {},
   "source": [
    "# CODECHEF"
   ]
  },
  {
   "cell_type": "markdown",
   "id": "c5ca1d32",
   "metadata": {},
   "source": [
    "### Basics"
   ]
  },
  {
   "cell_type": "code",
   "execution_count": 12,
   "id": "4d5eeecc",
   "metadata": {},
   "outputs": [
    {
     "name": "stdout",
     "output_type": "stream",
     "text": [
      "30 + 20 = 50\n",
      "30 * 20 = 600\n",
      "30 + 20 = 50\n",
      "30 +   20.00 = 50 \n",
      "30 + 20 = 50\n"
     ]
    }
   ],
   "source": [
    "a=30\n",
    "b=20\n",
    "print(\"{} + {} = {}\".format(a,b,(a+b)))   #empty placeholder\n",
    "print(\"{0} * {1} = {2}\".format(a,b,(a*b))) # Numbered placeholder\n",
    "print(\"{firstn} + {secondn} = {res}\".format(firstn=a,secondn=b,res=(a+b))) # labelled placeholder\n",
    "print( \"%d +%8.2f = %d \"%(a,b,(a+b)))   #8.2 means 8 places , 2 for deci 1 for \" . \" and 5 for integer and here 3 place blank \n",
    "\n",
    "print(f\"{a} + {b} = {(a+b)}\")                 # main"
   ]
  },
  {
   "cell_type": "code",
   "execution_count": 13,
   "id": "b3fe65e7",
   "metadata": {},
   "outputs": [
    {
     "name": "stdout",
     "output_type": "stream",
     "text": [
      "50\n",
      "10\n",
      "600\n",
      "1.5\n",
      "1\n",
      "10\n",
      "348678440100000000000000000000\n"
     ]
    }
   ],
   "source": [
    "#arithmetic operators\n",
    "\n",
    "print(a + b)\n",
    "print(a - b)\n",
    "print(a * b)\n",
    "print(a / b)\n",
    "print(a // b)\n",
    "print(a % b)\n",
    "print(a ** b)"
   ]
  },
  {
   "cell_type": "code",
   "execution_count": 19,
   "id": "4d64ce9d",
   "metadata": {},
   "outputs": [
    {
     "name": "stdout",
     "output_type": "stream",
     "text": [
      "True\n",
      "False\n",
      "True\n",
      "True False\n"
     ]
    }
   ],
   "source": [
    "#logical operators\n",
    "\n",
    "print( 100 > 30 and 200 > 40 )\n",
    "print( 100 > 30 and 40 > 200 )\n",
    "print( 100 > 30 or 200 > 40 )\n",
    "print( 100 > 30,not(200 > 40) )\n"
   ]
  },
  {
   "cell_type": "code",
   "execution_count": 23,
   "id": "830104d8",
   "metadata": {},
   "outputs": [
    {
     "name": "stdout",
     "output_type": "stream",
     "text": [
      "ok we can pass if block\n"
     ]
    }
   ],
   "source": [
    "num=100\n",
    "if num % 10 !=0:\n",
    "    pass   # statement placeholder \n",
    "else:\n",
    "    print(\"ok we can pass if block\")"
   ]
  },
  {
   "cell_type": "code",
   "execution_count": 28,
   "id": "31a720da",
   "metadata": {},
   "outputs": [
    {
     "name": "stdout",
     "output_type": "stream",
     "text": [
      "10\n",
      "12\n",
      "14\n",
      "16\n",
      "18\n",
      "20\n",
      "22\n",
      "24\n"
     ]
    }
   ],
   "source": [
    "for i in range(10,25,2):         \n",
    "    print(i)"
   ]
  },
  {
   "cell_type": "code",
   "execution_count": 35,
   "id": "c314621e",
   "metadata": {},
   "outputs": [
    {
     "name": "stdout",
     "output_type": "stream",
     "text": [
      "i=  1\n",
      "i=  2\n",
      "i=  3\n",
      "i=  4\n",
      "i=  5\n",
      "i=  6\n",
      "i=  7\n",
      "i=  8\n",
      "i=  9\n",
      "i=  10\n",
      "Loop ok\n",
      "END\n"
     ]
    }
   ],
   "source": [
    " i=1\n",
    "while(i<=10):\n",
    "    print(\"i= \",i)\n",
    "    i+=1\n",
    "else:\n",
    "    print(\"Loop ok\")\n",
    "    \n",
    "            \n",
    "print(\"END\")    "
   ]
  },
  {
   "cell_type": "code",
   "execution_count": 1,
   "id": "74c3cf18",
   "metadata": {},
   "outputs": [
    {
     "name": "stdout",
     "output_type": "stream",
     "text": [
      "[11, 22, 33, 44, 'asdf', True] 6 <class 'list'> 2379515485888\n"
     ]
    }
   ],
   "source": [
    "list1=[11,22,33,44,\"asdf\",True] # List is mutable\n",
    "print(list1,len(list1),type(list1),id(list1))"
   ]
  },
  {
   "cell_type": "code",
   "execution_count": 13,
   "id": "e55cb219",
   "metadata": {},
   "outputs": [
    {
     "name": "stdout",
     "output_type": "stream",
     "text": [
      "(11, 22, 33, 44, 'asdf', True) 6 <class 'tuple'> 2379514755968\n"
     ]
    }
   ],
   "source": [
    "tuple1=(11,22,33,44,\"asdf\",True) # sets are immutable\n",
    "print(tuple1,len(tuple1), type(tuple1),id(tuple1))"
   ]
  },
  {
   "cell_type": "code",
   "execution_count": 3,
   "id": "20e3d348",
   "metadata": {},
   "outputs": [
    {
     "name": "stdout",
     "output_type": "stream",
     "text": [
      "{'apple': 120, 'mango': 140, 'banana': 130} 3 <class 'dict'> 2379515493504\n"
     ]
    }
   ],
   "source": [
    "dict1={\"apple\":120,\"mango\":140,\"banana\":130}\n",
    "print(dict1,len(dict1), type(dict1),id(dict1))"
   ]
  },
  {
   "cell_type": "code",
   "execution_count": 5,
   "id": "288fe1ae",
   "metadata": {},
   "outputs": [
    {
     "name": "stdout",
     "output_type": "stream",
     "text": [
      "{33, 66, True, 11, 44, 22, 55, 'hai'} 8 <class 'set'> 2379513540480\n"
     ]
    }
   ],
   "source": [
    "set1={11,33,True,22,44,55,66,22,44,55,66,\"hai\",True}\n",
    "print(set1,len(set1),type(set1),id(set1))\n"
   ]
  },
  {
   "cell_type": "code",
   "execution_count": 14,
   "id": "4d482816",
   "metadata": {},
   "outputs": [
    {
     "name": "stdout",
     "output_type": "stream",
     "text": [
      "[] 0 <class 'list'> 2379515111424\n",
      "() 0 <class 'tuple'> 2379437391984\n",
      "{} 0 <class 'dict'> 2379515524224\n",
      "{} 0 <class 'dict'> 2379515524160\n"
     ]
    }
   ],
   "source": [
    "list1=[]\n",
    "print(list1, len(list1), type(list1), id(list1))\n",
    "\n",
    "tuple1=()\n",
    "print(tuple1,len(tuple1),type(tuple1),id(tuple1))\n",
    "\n",
    "dict1={}\n",
    "print(dict1,len(dict1),type(dict1),id(dict1))\n",
    "\n",
    "set1={}\n",
    "print(set1,len(set1),type(set1),id(set1))"
   ]
  },
  {
   "cell_type": "code",
   "execution_count": 16,
   "id": "965ae802",
   "metadata": {},
   "outputs": [
    {
     "name": "stdout",
     "output_type": "stream",
     "text": [
      "100 2379437382096\n",
      "100 2379437378896\n",
      "200 2379437382096\n"
     ]
    }
   ],
   "source": [
    "num1=200\n",
    "num2=100\n",
    "print(num2,id(num1))\n",
    "print(num2,id(num2))\n",
    "num2=200\n",
    "print(num2,id(num2))"
   ]
  },
  {
   "cell_type": "code",
   "execution_count": 20,
   "id": "5104e50e",
   "metadata": {},
   "outputs": [
    {
     "name": "stdout",
     "output_type": "stream",
     "text": [
      "-6 2379533936720 -6 2379533938512\n",
      "\n",
      "2 2379437375760 2 2379437375760\n"
     ]
    }
   ],
   "source": [
    "var1=-6  #ids will remain same for multiple variables for values between -5 to 256\n",
    "var2=-6\n",
    "print(var1,id(var1),var2,id(var2))\n",
    "\n",
    "print(\"\")\n",
    "a=2\n",
    "b=2\n",
    "print(a,id(a),b,id(b))\n"
   ]
  },
  {
   "cell_type": "code",
   "execution_count": 27,
   "id": "d63a2d6e",
   "metadata": {},
   "outputs": [
    {
     "name": "stdout",
     "output_type": "stream",
     "text": [
      "part1=100, part2=200,part3=300..\n",
      "part1=100, part2=200,part3=333..\n",
      "part1=100, part2=222,part3=333..\n",
      "part1=111, part2=222,part3=333..\n"
     ]
    }
   ],
   "source": [
    "#functions with default arguments\n",
    "def functn4(part1=111,part2=222,part3=333):\n",
    "    print(f\"part1={part1}, part2={part2},part3={part3}..\")\n",
    "    \n",
    "functn4(100,200,300)\n",
    "functn4(100,200)\n",
    "functn4(100)\n",
    "functn4()"
   ]
  },
  {
   "cell_type": "code",
   "execution_count": 32,
   "id": "4b90f7ae",
   "metadata": {},
   "outputs": [
    {
     "name": "stdout",
     "output_type": "stream",
     "text": [
      "400\n",
      "900\n"
     ]
    }
   ],
   "source": [
    "def funct5(par1,par2=None):\n",
    "    if(par2 is None):               #is compares id , = compares value\n",
    "        return par1 + par1\n",
    "    else:\n",
    "        return par1 + par2\n",
    "print(funct5(200))\n",
    "print(funct5(100,800))"
   ]
  },
  {
   "cell_type": "code",
   "execution_count": 1,
   "id": "24d64b1f",
   "metadata": {},
   "outputs": [
    {
     "name": "stdout",
     "output_type": "stream",
     "text": [
      " total=500 , diff=-300 ,prod=40000 , quot=0.25\n",
      "(1400, 600, 400000, 2.5) <class 'tuple'> 2376054716944\n",
      " total=1400 , diff=600 ,prod=400000 , quot=2.5\n"
     ]
    }
   ],
   "source": [
    "def functn6(num1,num2):\n",
    "    total=num1+num2\n",
    "    diff=num1-num2\n",
    "    prod=num1*num2\n",
    "    quot=num1/num2\n",
    "    return total,diff,prod,quot\n",
    "tt,dd,pp,qq=functn6(100,400)\n",
    "print(f\" total={tt} , diff={dd} ,prod={pp} , quot={qq}\")\n",
    "\n",
    "res=functn6(1000,400)\n",
    "print(res,type(res),id(res))\n",
    "print(f\" total={res[0]} , diff={res[1]} ,prod={res[2]} , quot={res[3]}\")\n"
   ]
  },
  {
   "cell_type": "code",
   "execution_count": 4,
   "id": "0d2043be",
   "metadata": {},
   "outputs": [
    {
     "name": "stdout",
     "output_type": "stream",
     "text": [
      "('apple', 'banana', 'mango') 3 <class 'tuple'>\n",
      "('monday', 'tuesday', 'wednesday', 'thursday', 'friday') 5 <class 'tuple'>\n",
      "(1, 2, 3, 4, 5, 6, 7, 8, 9) 9 <class 'tuple'>\n"
     ]
    }
   ],
   "source": [
    "#function with variable number of arguments\n",
    "def functn7(*arg):        #  * arg => it is a tuple variable \n",
    "    print (arg,len(arg), type(arg))\n",
    "functn7(\"apple\",\"banana\",\"mango\")    \n",
    "functn7(\"monday\",\"tuesday\",\"wednesday\",\"thursday\",\"friday\" )   \n",
    "functn7(1,2,3,4,5,6,7,8,9)    "
   ]
  },
  {
   "cell_type": "code",
   "execution_count": 12,
   "id": "bbcb3adf",
   "metadata": {},
   "outputs": [
    {
     "name": "stdout",
     "output_type": "stream",
     "text": [
      "{'student': 'teacher', 'momo': 88, 'chowmin': 120, 'roll': 130, 'hai': 'False'} 5 <class 'dict'>\n"
     ]
    }
   ],
   "source": [
    "def functn8(**kwarg):    #  **kwarg => it is a  key-word argument\n",
    "    \n",
    "    print (kwarg,len(kwarg), type(kwarg))\n",
    "\n",
    "functn8(student=\"teacher\",momo=88,chowmin=120,roll=130,hai=\"False\")"
   ]
  },
  {
   "cell_type": "code",
   "execution_count": 11,
   "id": "5a337d51",
   "metadata": {},
   "outputs": [
    {
     "name": "stdout",
     "output_type": "stream",
     "text": [
      "('apple', 'banana', 'mango') 3 <class 'tuple'>\n",
      "{'momo': 88, 'chowmin': 120, 'roll': 130} 3 <class 'dict'>\n",
      "\n",
      "('apple', 'banana', 'mango') 3 <class 'tuple'>\n",
      "{} 0 <class 'dict'>\n",
      "\n",
      "() 0 <class 'tuple'>\n",
      "{'momo': 88, 'chowmin': 120, 'roll': 130} 3 <class 'dict'>\n"
     ]
    }
   ],
   "source": [
    "def functn9(*arg,**kwarg):    #  **kwarg => it is a dictionary variable \n",
    "    print (arg,len(arg), type(arg))\n",
    "    \n",
    "    print (kwarg,len(kwarg), type(kwarg))\n",
    "\n",
    "functn9(\"apple\",\"banana\",\"mango\",momo=88,chowmin=120,roll=130)   #mix of tuple and key word combo\n",
    "print(\"\")\n",
    "\n",
    "functn9(\"apple\",\"banana\",\"mango\")        # only tuple\n",
    "print(\"\")\n",
    "\n",
    "functn9(momo=88,chowmin=120,roll=130)   #only dictionary\n"
   ]
  },
  {
   "cell_type": "code",
   "execution_count": 13,
   "id": "537baa6f",
   "metadata": {},
   "outputs": [
    {
     "name": "stdout",
     "output_type": "stream",
     "text": [
      "Before calling the function , i= 10 2375972880912\n",
      "190 2375972886672\n",
      "After calling function , i= 10 2375972880912\n"
     ]
    }
   ],
   "source": [
    "i=10\n",
    "def funct10():\n",
    "    i=190\n",
    "    print (i,id(i))\n",
    "print(\"Before calling the function , i=\",i,id(i))\n",
    "funct10()\n",
    "print(\"After calling function , i=\",i,id(i))"
   ]
  },
  {
   "cell_type": "code",
   "execution_count": 14,
   "id": "5266b35d",
   "metadata": {},
   "outputs": [
    {
     "name": "stdout",
     "output_type": "stream",
     "text": [
      "Before calling the function , i= 10 2375972880912\n",
      "190 2375972886672\n",
      "After calling function , i= 190 2375972886672\n"
     ]
    }
   ],
   "source": [
    "i=10\n",
    "def funct10():\n",
    "    global i\n",
    "    i=190\n",
    "    print (i,id(i))\n",
    "print(\"Before calling the function , i=\",i,id(i))\n",
    "funct10()\n",
    "print(\"After calling function , i=\",i,id(i))"
   ]
  },
  {
   "cell_type": "code",
   "execution_count": 1,
   "id": "381dd6e8",
   "metadata": {},
   "outputs": [
    {
     "name": "stdout",
     "output_type": "stream",
     "text": [
      "120\n",
      "720\n"
     ]
    }
   ],
   "source": [
    "def factorialn(num):\n",
    "    if (num==0 or num==1):\n",
    "        return num\n",
    "    fact=num\n",
    "    for i in range(2,num):\n",
    "        fact=fact*i\n",
    "    return fact\n",
    "\n",
    "print(factorialn(5))\n",
    "print(factorialn(6))    \n",
    "\n"
   ]
  },
  {
   "cell_type": "code",
   "execution_count": 2,
   "id": "7eb01551",
   "metadata": {},
   "outputs": [
    {
     "name": "stdout",
     "output_type": "stream",
     "text": [
      "120\n",
      "720\n"
     ]
    }
   ],
   "source": [
    "def factorailnr(num):\n",
    "    if (num==0 or num==1):\n",
    "        return num\n",
    "    return num*factorailnr(num-1)    #recursive case\n",
    "print(factorialn(5))\n",
    "print(factorialn(6))    \n",
    "\n"
   ]
  },
  {
   "cell_type": "code",
   "execution_count": 3,
   "id": "d6d25677",
   "metadata": {},
   "outputs": [
    {
     "name": "stdout",
     "output_type": "stream",
     "text": [
      "1 2 3 4  <class 'str'>\n"
     ]
    }
   ],
   "source": [
    "result=input(\"Please enter a set of numbers: \")\n",
    "print(result,type(result))"
   ]
  },
  {
   "cell_type": "code",
   "execution_count": 4,
   "id": "13a1d8c2",
   "metadata": {},
   "outputs": [
    {
     "name": "stdout",
     "output_type": "stream",
     "text": [
      "['1', '2', '3', '4'] <class 'list'>\n"
     ]
    }
   ],
   "source": [
    "result=input(\"Please enter a set of numbers: \").split()\n",
    "print(result,type(result))"
   ]
  },
  {
   "cell_type": "code",
   "execution_count": 5,
   "id": "473ea025",
   "metadata": {},
   "outputs": [
    {
     "name": "stdout",
     "output_type": "stream",
     "text": [
      "[1, 2, 3, 4, 5, 6, 7] <class 'list'>\n"
     ]
    }
   ],
   "source": [
    "result=list(map(int,input(\"Please enter a set of numbers: \").split()))\n",
    "print(result,type(result))"
   ]
  },
  {
   "cell_type": "code",
   "execution_count": 5,
   "id": "08258699",
   "metadata": {},
   "outputs": [
    {
     "name": "stdout",
     "output_type": "stream",
     "text": [
      "[6, 6, 7, 8, 9] <class 'list'>\n"
     ]
    }
   ],
   "source": [
    "def functn11(mystr):\n",
    "    return len(mystr)\n",
    "\n",
    "list1=[\"monday\",\"friday\",\"tuesday\",\"thursday\",\"wednesday\" ]\n",
    "result=list(map(functn11,list1))\n",
    "print(result,type(result))"
   ]
  },
  {
   "cell_type": "markdown",
   "id": "f472114f",
   "metadata": {},
   "source": [
    "### Lambda Function"
   ]
  },
  {
   "cell_type": "code",
   "execution_count": 8,
   "id": "de1645f9",
   "metadata": {},
   "outputs": [
    {
     "name": "stdout",
     "output_type": "stream",
     "text": [
      "25\n",
      "49\n",
      "<class 'function'>\n"
     ]
    }
   ],
   "source": [
    "mysquare=lambda num:num*num\n",
    "print(mysquare(5))\n",
    "print(mysquare(7))\n",
    "print(type(mysquare))"
   ]
  },
  {
   "cell_type": "code",
   "execution_count": 11,
   "id": "693d06e4",
   "metadata": {},
   "outputs": [
    {
     "name": "stdout",
     "output_type": "stream",
     "text": [
      "12\n",
      "1200\n",
      "<class 'function'>\n"
     ]
    }
   ],
   "source": [
    "myaddition=lambda num1,num2:num1+num2\n",
    "print(myaddition(5,7))\n",
    "print(myaddition(500,700))\n",
    "print(type(myaddition))"
   ]
  },
  {
   "cell_type": "code",
   "execution_count": 13,
   "id": "7f4a958b",
   "metadata": {},
   "outputs": [
    {
     "name": "stdout",
     "output_type": "stream",
     "text": [
      "12 Even\n"
     ]
    }
   ],
   "source": [
    "n=12\n",
    "result=\"Even\" if (n % 2 == 0) else \"Odd\"\n",
    "print(n,result)\n"
   ]
  },
  {
   "cell_type": "code",
   "execution_count": 15,
   "id": "ba878178",
   "metadata": {},
   "outputs": [
    {
     "name": "stdout",
     "output_type": "stream",
     "text": [
      "120\n",
      "720\n",
      "5040\n",
      "1\n"
     ]
    }
   ],
   "source": [
    "myfactorial=lambda num1:1 if (num1==0 or num1 == 1) else num1*myfactorial(num1-1)\n",
    "print(myfactorial(5))\n",
    "print(myfactorial(6))\n",
    "print(myfactorial(7))\n",
    "print(myfactorial(0))"
   ]
  },
  {
   "cell_type": "markdown",
   "id": "ba8551c3",
   "metadata": {},
   "source": [
    "## Dealing with math module "
   ]
  },
  {
   "cell_type": "code",
   "execution_count": 20,
   "id": "75b9485e",
   "metadata": {},
   "outputs": [
    {
     "name": "stdout",
     "output_type": "stream",
     "text": [
      "5 10\n",
      "100.0 100 100.0\n",
      "0.0 1.0 0.0\n",
      "4.605170185988092 2.0\n",
      "120 3.141592653589793\n"
     ]
    }
   ],
   "source": [
    "import math\n",
    "print(math.gcd(100,45) , math.gcd(200,70))\n",
    "print(math.pow(10,2) , 10**2, 10.0 ** 2)\n",
    "print(math.sin(0) , math.cos(0) ,math.tan(0))\n",
    "print(math.log(100) , math.log10(100))\n",
    "print(math.factorial(5),math.pi)"
   ]
  },
  {
   "cell_type": "code",
   "execution_count": 23,
   "id": "66202f62",
   "metadata": {},
   "outputs": [
    {
     "name": "stdout",
     "output_type": "stream",
     "text": [
      "Help on built-in module math:\n",
      "\n",
      "NAME\n",
      "    math\n",
      "\n",
      "DESCRIPTION\n",
      "    This module provides access to the mathematical functions\n",
      "    defined by the C standard.\n",
      "\n",
      "FUNCTIONS\n",
      "    acos(x, /)\n",
      "        Return the arc cosine (measured in radians) of x.\n",
      "        \n",
      "        The result is between 0 and pi.\n",
      "    \n",
      "    acosh(x, /)\n",
      "        Return the inverse hyperbolic cosine of x.\n",
      "    \n",
      "    asin(x, /)\n",
      "        Return the arc sine (measured in radians) of x.\n",
      "        \n",
      "        The result is between -pi/2 and pi/2.\n",
      "    \n",
      "    asinh(x, /)\n",
      "        Return the inverse hyperbolic sine of x.\n",
      "    \n",
      "    atan(x, /)\n",
      "        Return the arc tangent (measured in radians) of x.\n",
      "        \n",
      "        The result is between -pi/2 and pi/2.\n",
      "    \n",
      "    atan2(y, x, /)\n",
      "        Return the arc tangent (measured in radians) of y/x.\n",
      "        \n",
      "        Unlike atan(y/x), the signs of both x and y are considered.\n",
      "    \n",
      "    atanh(x, /)\n",
      "        Return the inverse hyperbolic tangent of x.\n",
      "    \n",
      "    ceil(x, /)\n",
      "        Return the ceiling of x as an Integral.\n",
      "        \n",
      "        This is the smallest integer >= x.\n",
      "    \n",
      "    comb(n, k, /)\n",
      "        Number of ways to choose k items from n items without repetition and without order.\n",
      "        \n",
      "        Evaluates to n! / (k! * (n - k)!) when k <= n and evaluates\n",
      "        to zero when k > n.\n",
      "        \n",
      "        Also called the binomial coefficient because it is equivalent\n",
      "        to the coefficient of k-th term in polynomial expansion of the\n",
      "        expression (1 + x)**n.\n",
      "        \n",
      "        Raises TypeError if either of the arguments are not integers.\n",
      "        Raises ValueError if either of the arguments are negative.\n",
      "    \n",
      "    copysign(x, y, /)\n",
      "        Return a float with the magnitude (absolute value) of x but the sign of y.\n",
      "        \n",
      "        On platforms that support signed zeros, copysign(1.0, -0.0)\n",
      "        returns -1.0.\n",
      "    \n",
      "    cos(x, /)\n",
      "        Return the cosine of x (measured in radians).\n",
      "    \n",
      "    cosh(x, /)\n",
      "        Return the hyperbolic cosine of x.\n",
      "    \n",
      "    degrees(x, /)\n",
      "        Convert angle x from radians to degrees.\n",
      "    \n",
      "    dist(p, q, /)\n",
      "        Return the Euclidean distance between two points p and q.\n",
      "        \n",
      "        The points should be specified as sequences (or iterables) of\n",
      "        coordinates.  Both inputs must have the same dimension.\n",
      "        \n",
      "        Roughly equivalent to:\n",
      "            sqrt(sum((px - qx) ** 2.0 for px, qx in zip(p, q)))\n",
      "    \n",
      "    erf(x, /)\n",
      "        Error function at x.\n",
      "    \n",
      "    erfc(x, /)\n",
      "        Complementary error function at x.\n",
      "    \n",
      "    exp(x, /)\n",
      "        Return e raised to the power of x.\n",
      "    \n",
      "    expm1(x, /)\n",
      "        Return exp(x)-1.\n",
      "        \n",
      "        This function avoids the loss of precision involved in the direct evaluation of exp(x)-1 for small x.\n",
      "    \n",
      "    fabs(x, /)\n",
      "        Return the absolute value of the float x.\n",
      "    \n",
      "    factorial(x, /)\n",
      "        Find x!.\n",
      "        \n",
      "        Raise a ValueError if x is negative or non-integral.\n",
      "    \n",
      "    floor(x, /)\n",
      "        Return the floor of x as an Integral.\n",
      "        \n",
      "        This is the largest integer <= x.\n",
      "    \n",
      "    fmod(x, y, /)\n",
      "        Return fmod(x, y), according to platform C.\n",
      "        \n",
      "        x % y may differ.\n",
      "    \n",
      "    frexp(x, /)\n",
      "        Return the mantissa and exponent of x, as pair (m, e).\n",
      "        \n",
      "        m is a float and e is an int, such that x = m * 2.**e.\n",
      "        If x is 0, m and e are both 0.  Else 0.5 <= abs(m) < 1.0.\n",
      "    \n",
      "    fsum(seq, /)\n",
      "        Return an accurate floating point sum of values in the iterable seq.\n",
      "        \n",
      "        Assumes IEEE-754 floating point arithmetic.\n",
      "    \n",
      "    gamma(x, /)\n",
      "        Gamma function at x.\n",
      "    \n",
      "    gcd(*integers)\n",
      "        Greatest Common Divisor.\n",
      "    \n",
      "    hypot(...)\n",
      "        hypot(*coordinates) -> value\n",
      "        \n",
      "        Multidimensional Euclidean distance from the origin to a point.\n",
      "        \n",
      "        Roughly equivalent to:\n",
      "            sqrt(sum(x**2 for x in coordinates))\n",
      "        \n",
      "        For a two dimensional point (x, y), gives the hypotenuse\n",
      "        using the Pythagorean theorem:  sqrt(x*x + y*y).\n",
      "        \n",
      "        For example, the hypotenuse of a 3/4/5 right triangle is:\n",
      "        \n",
      "            >>> hypot(3.0, 4.0)\n",
      "            5.0\n",
      "    \n",
      "    isclose(a, b, *, rel_tol=1e-09, abs_tol=0.0)\n",
      "        Determine whether two floating point numbers are close in value.\n",
      "        \n",
      "          rel_tol\n",
      "            maximum difference for being considered \"close\", relative to the\n",
      "            magnitude of the input values\n",
      "          abs_tol\n",
      "            maximum difference for being considered \"close\", regardless of the\n",
      "            magnitude of the input values\n",
      "        \n",
      "        Return True if a is close in value to b, and False otherwise.\n",
      "        \n",
      "        For the values to be considered close, the difference between them\n",
      "        must be smaller than at least one of the tolerances.\n",
      "        \n",
      "        -inf, inf and NaN behave similarly to the IEEE 754 Standard.  That\n",
      "        is, NaN is not close to anything, even itself.  inf and -inf are\n",
      "        only close to themselves.\n",
      "    \n",
      "    isfinite(x, /)\n",
      "        Return True if x is neither an infinity nor a NaN, and False otherwise.\n",
      "    \n",
      "    isinf(x, /)\n",
      "        Return True if x is a positive or negative infinity, and False otherwise.\n",
      "    \n",
      "    isnan(x, /)\n",
      "        Return True if x is a NaN (not a number), and False otherwise.\n",
      "    \n",
      "    isqrt(n, /)\n",
      "        Return the integer part of the square root of the input.\n",
      "    \n",
      "    lcm(*integers)\n",
      "        Least Common Multiple.\n",
      "    \n",
      "    ldexp(x, i, /)\n",
      "        Return x * (2**i).\n",
      "        \n",
      "        This is essentially the inverse of frexp().\n",
      "    \n",
      "    lgamma(x, /)\n",
      "        Natural logarithm of absolute value of Gamma function at x.\n",
      "    \n",
      "    log(...)\n",
      "        log(x, [base=math.e])\n",
      "        Return the logarithm of x to the given base.\n",
      "        \n",
      "        If the base not specified, returns the natural logarithm (base e) of x.\n",
      "    \n",
      "    log10(x, /)\n",
      "        Return the base 10 logarithm of x.\n",
      "    \n",
      "    log1p(x, /)\n",
      "        Return the natural logarithm of 1+x (base e).\n",
      "        \n",
      "        The result is computed in a way which is accurate for x near zero.\n",
      "    \n",
      "    log2(x, /)\n",
      "        Return the base 2 logarithm of x.\n",
      "    \n",
      "    modf(x, /)\n",
      "        Return the fractional and integer parts of x.\n",
      "        \n",
      "        Both results carry the sign of x and are floats.\n",
      "    \n",
      "    nextafter(x, y, /)\n",
      "        Return the next floating-point value after x towards y.\n",
      "    \n",
      "    perm(n, k=None, /)\n",
      "        Number of ways to choose k items from n items without repetition and with order.\n",
      "        \n",
      "        Evaluates to n! / (n - k)! when k <= n and evaluates\n",
      "        to zero when k > n.\n",
      "        \n",
      "        If k is not specified or is None, then k defaults to n\n",
      "        and the function returns n!.\n",
      "        \n",
      "        Raises TypeError if either of the arguments are not integers.\n",
      "        Raises ValueError if either of the arguments are negative.\n",
      "    \n",
      "    pow(x, y, /)\n",
      "        Return x**y (x to the power of y).\n",
      "    \n",
      "    prod(iterable, /, *, start=1)\n",
      "        Calculate the product of all the elements in the input iterable.\n",
      "        \n",
      "        The default start value for the product is 1.\n",
      "        \n",
      "        When the iterable is empty, return the start value.  This function is\n",
      "        intended specifically for use with numeric values and may reject\n",
      "        non-numeric types.\n",
      "    \n",
      "    radians(x, /)\n",
      "        Convert angle x from degrees to radians.\n",
      "    \n",
      "    remainder(x, y, /)\n",
      "        Difference between x and the closest integer multiple of y.\n",
      "        \n",
      "        Return x - n*y where n*y is the closest integer multiple of y.\n",
      "        In the case where x is exactly halfway between two multiples of\n",
      "        y, the nearest even value of n is used. The result is always exact.\n",
      "    \n",
      "    sin(x, /)\n",
      "        Return the sine of x (measured in radians).\n",
      "    \n",
      "    sinh(x, /)\n",
      "        Return the hyperbolic sine of x.\n",
      "    \n",
      "    sqrt(x, /)\n",
      "        Return the square root of x.\n",
      "    \n",
      "    tan(x, /)\n",
      "        Return the tangent of x (measured in radians).\n",
      "    \n",
      "    tanh(x, /)\n",
      "        Return the hyperbolic tangent of x.\n",
      "    \n",
      "    trunc(x, /)\n",
      "        Truncates the Real x to the nearest Integral toward 0.\n",
      "        \n",
      "        Uses the __trunc__ magic method.\n",
      "    \n",
      "    ulp(x, /)\n",
      "        Return the value of the least significant bit of the float x.\n",
      "\n",
      "DATA\n",
      "    e = 2.718281828459045\n",
      "    inf = inf\n",
      "    nan = nan\n",
      "    pi = 3.141592653589793\n",
      "    tau = 6.283185307179586\n",
      "\n",
      "FILE\n",
      "    (built-in)\n",
      "\n",
      "\n"
     ]
    }
   ],
   "source": [
    "help(math)"
   ]
  },
  {
   "cell_type": "markdown",
   "id": "f0aef93d",
   "metadata": {},
   "source": [
    "## String Processing"
   ]
  },
  {
   "cell_type": "markdown",
   "id": "78f0d004",
   "metadata": {},
   "source": [
    "L2R   ->   0  1  2  3  4  5  6  7  8  9\n",
    "mystr ->   u  n  i  v  e  r  s  i  t  y \n",
    "R2L   -> -10 -9 -8 -7 -6 -5 -4 -3 -2 -1 \n"
   ]
  },
  {
   "cell_type": "code",
   "execution_count": 4,
   "id": "8c481ecd",
   "metadata": {},
   "outputs": [
    {
     "name": "stdout",
     "output_type": "stream",
     "text": [
      "university 10 <class 'str'> 2272936077424\n",
      "v v i i\n",
      "ver ver ver ver\n",
      "uiest nvriy ytisrevinu\n"
     ]
    }
   ],
   "source": [
    "mystr=\"university\"\n",
    "\n",
    "print(mystr,len(mystr),type(mystr),id(mystr))  #string indexing \n",
    "print(mystr[3] , mystr[-7] , mystr[7] , mystr[-3])\n",
    "print(mystr[3:6] , mystr[-7:-4] , mystr[3:-4] , mystr[-7:6]  ) # string slicing\n",
    "print(mystr[::2],mystr[1::2], mystr[::-1])   #even,odd,reverse index"
   ]
  },
  {
   "cell_type": "code",
   "execution_count": 5,
   "id": "7bc83878",
   "metadata": {},
   "outputs": [
    {
     "name": "stdout",
     "output_type": "stream",
     "text": [
      "uNivERsiTy 10 <class 'str'> 2272935839664\n",
      "UNIVERSITY\n",
      "university\n",
      "University\n",
      "University\n",
      "UnIVerSItY\n"
     ]
    }
   ],
   "source": [
    "mystr=\"uNivERsiTy\"\n",
    "\n",
    "print(mystr,len(mystr),type(mystr),id(mystr))\n",
    "print(mystr.upper())\n",
    "print(mystr.lower())\n",
    "print(mystr.capitalize())\n",
    "print(mystr.title())\n",
    "print(mystr.swapcase())\n"
   ]
  },
  {
   "cell_type": "code",
   "execution_count": 6,
   "id": "2799cc35",
   "metadata": {},
   "outputs": [
    {
     "name": "stdout",
     "output_type": "stream",
     "text": [
      "abcd True True False\n",
      "1234 False True True\n",
      "abcd1234 False True False\n",
      "abcd@1234 False False False\n"
     ]
    }
   ],
   "source": [
    "mystr=\"abcd\"\n",
    "print(mystr,mystr.isalpha(),mystr.isalnum(),mystr.isdigit())\n",
    "\n",
    "mystr=\"1234\"\n",
    "print(mystr,mystr.isalpha(),mystr.isalnum(),mystr.isdigit())\n",
    "\n",
    "mystr=\"abcd1234\"\n",
    "print(mystr,mystr.isalpha(),mystr.isalnum(),mystr.isdigit())\n",
    "\n",
    "mystr=\"abcd@1234\"\n",
    "print(mystr,mystr.isalpha(),mystr.isalnum(),mystr.isdigit())"
   ]
  },
  {
   "cell_type": "code",
   "execution_count": 7,
   "id": "ce22811c",
   "metadata": {},
   "outputs": [
    {
     "name": "stdout",
     "output_type": "stream",
     "text": [
      "university 3\n",
      "3 -1\n"
     ]
    }
   ],
   "source": [
    "mystr=\"university\"\n",
    "print(mystr,mystr.index(\"ver\")) # mystr.index(\"xyz\"))\n",
    "print(mystr.find(\"ver\") , mystr.find(\"xyz\"))\n"
   ]
  },
  {
   "cell_type": "code",
   "execution_count": 8,
   "id": "68a3185f",
   "metadata": {},
   "outputs": [
    {
     "name": "stdout",
     "output_type": "stream",
     "text": [
      "A 65\n",
      "65 A\n"
     ]
    }
   ],
   "source": [
    "mystr=\"A\"\n",
    "\n",
    "print(mystr,ord(mystr))\n",
    "\n",
    "myvar=65\n",
    "print(myvar , chr(myvar))"
   ]
  },
  {
   "cell_type": "code",
   "execution_count": 11,
   "id": "ef61fa21",
   "metadata": {},
   "outputs": [
    {
     "name": "stdout",
     "output_type": "stream",
     "text": [
      "    Welcome to all    21\n",
      "Welcome to all 14\n",
      "Welcome to all    17\n",
      "    Welcome to all 18\n"
     ]
    }
   ],
   "source": [
    "mystr=\"    Welcome to all   \"\n",
    "print(mystr,len(mystr))\n",
    "print(mystr.strip(), len(mystr.strip()))\n",
    "print(mystr.lstrip(), len(mystr.lstrip()))\n",
    "print(mystr.rstrip(), len(mystr.rstrip()))\n",
    "\n"
   ]
  },
  {
   "cell_type": "code",
   "execution_count": 13,
   "id": "e9c7c503",
   "metadata": {},
   "outputs": [
    {
     "name": "stdout",
     "output_type": "stream",
     "text": [
      "#@@@#Welcome to all#@# 22\n",
      "Welcome to all 14\n",
      "Welcome to all#@# 17\n",
      "#@@@#Welcome to all 19\n"
     ]
    }
   ],
   "source": [
    "mystr=\"#@@@#Welcome to all#@#\"\n",
    "print(mystr,len(mystr))\n",
    "print(mystr.strip(\"#@\"), len(mystr.strip(\"#@\")))\n",
    "print(mystr.lstrip(\"#@\"), len(mystr.lstrip(\"#@\")))\n",
    "print(mystr.rstrip(\"#@\"), len(mystr.rstrip(\"#@\")))"
   ]
  },
  {
   "cell_type": "code",
   "execution_count": 14,
   "id": "62c0f4a2",
   "metadata": {},
   "outputs": [
    {
     "name": "stdout",
     "output_type": "stream",
     "text": [
      "university 10 <class 'str'>\n",
      "['u', 'n', 'i', 'v', 'e', 'r', 's', 'i', 't', 'y'] <class 'list'>\n",
      "('u', 'n', 'i', 'v', 'e', 'r', 's', 'i', 't', 'y') <class 'tuple'>\n",
      "{'s', 't', 'v', 'y', 'r', 'i', 'u', 'n', 'e'} <class 'set'>\n"
     ]
    }
   ],
   "source": [
    "mystr=\"university\"\n",
    "print(mystr,len(mystr),type(mystr))\n",
    "\n",
    "result=list(mystr)\n",
    "print(result,type(result))\n",
    "\n",
    "result=tuple(mystr)\n",
    "print(result,type(result))\n",
    "\n",
    "result=set(mystr)\n",
    "print(result,type(result))"
   ]
  },
  {
   "cell_type": "code",
   "execution_count": 15,
   "id": "1a65c023",
   "metadata": {},
   "outputs": [
    {
     "name": "stdout",
     "output_type": "stream",
     "text": [
      "['charity', 'should', 'begin', 'at', 'home']\n",
      "['char', 'ty should beg', 'n at home']\n"
     ]
    }
   ],
   "source": [
    "mystr=\"charity should begin at home\"\n",
    "list1=mystr.split(\" \")\n",
    "print(list1)\n",
    "\n",
    "list1=mystr.split(\"i\")\n",
    "print(list1)"
   ]
  },
  {
   "cell_type": "code",
   "execution_count": 19,
   "id": "abc2d2a0",
   "metadata": {},
   "outputs": [
    {
     "name": "stdout",
     "output_type": "stream",
     "text": [
      "['charity', 'should', 'begin', 'at', 'home'] <class 'list'>\n",
      "charity should begin at home <class 'str'>\n",
      "charity - should - begin - at - home <class 'str'>\n"
     ]
    }
   ],
   "source": [
    "list2=['charity', 'should', 'begin', 'at', 'home']\n",
    "print(list2,type(list2))\n",
    "mystr=\" \".join(list2)\n",
    "print(mystr,type(mystr))\n",
    "\n",
    "mystr=\" - \".join(list2)\n",
    "print(mystr,type(mystr))"
   ]
  },
  {
   "cell_type": "markdown",
   "id": "196381b9",
   "metadata": {},
   "source": [
    "# Dealing with list"
   ]
  },
  {
   "cell_type": "code",
   "execution_count": null,
   "id": "49ed8cf9",
   "metadata": {},
   "outputs": [],
   "source": []
  }
 ],
 "metadata": {
  "kernelspec": {
   "display_name": "Python 3 (ipykernel)",
   "language": "python",
   "name": "python3"
  },
  "language_info": {
   "codemirror_mode": {
    "name": "ipython",
    "version": 3
   },
   "file_extension": ".py",
   "mimetype": "text/x-python",
   "name": "python",
   "nbconvert_exporter": "python",
   "pygments_lexer": "ipython3",
   "version": "3.10.0"
  },
  "vscode": {
   "interpreter": {
    "hash": "0e18a461b24bbbf8de6e4246fb2bd6807a1210c38fbbde99dbf1784f533b5d64"
   }
  }
 },
 "nbformat": 4,
 "nbformat_minor": 5
}

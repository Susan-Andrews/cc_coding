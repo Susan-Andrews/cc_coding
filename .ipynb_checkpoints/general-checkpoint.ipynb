{
 "cells": [
  {
   "cell_type": "markdown",
   "id": "6f1c4065",
   "metadata": {},
   "source": [
    "###  Collections and counter"
   ]
  },
  {
   "cell_type": "markdown",
   "id": "916577dc",
   "metadata": {},
   "source": [
    "The collection Module in Python provides different types of containers. A Container is an object that is used to store different objects and provide a way to access the contained objects and iterate over them. Some of the built-in containers are Tuple, List, Dictionary, etc.A counter is a sub-class of the dictionary. It is used to keep the count of the elements in an iterable in the form of an unordered dictionary where the key represents the element in the iterable and value represents the count of that element in the iterable."
   ]
  },
  {
   "cell_type": "code",
   "execution_count": 2,
   "id": "5d04df65",
   "metadata": {},
   "outputs": [
    {
     "name": "stdout",
     "output_type": "stream",
     "text": [
      "[(1, 5), (3, 4), (4, 3)]\n"
     ]
    }
   ],
   "source": [
    "from collections import Counter\n",
    " \n",
    "array_elements = [1, 3, 4, 1, 2, 1, 1, 3, 4, 3, 5, 1, 2, 5, 3, 4, 5]\n",
    "counter = Counter(array_elements)\n",
    "top_three = counter.most_common(3)\n",
    "print(top_three)"
   ]
  },
  {
   "cell_type": "code",
   "execution_count": null,
   "id": "1281b94e",
   "metadata": {},
   "outputs": [],
   "source": []
  }
 ],
 "metadata": {
  "kernelspec": {
   "display_name": "Python 3 (ipykernel)",
   "language": "python",
   "name": "python3"
  },
  "language_info": {
   "codemirror_mode": {
    "name": "ipython",
    "version": 3
   },
   "file_extension": ".py",
   "mimetype": "text/x-python",
   "name": "python",
   "nbconvert_exporter": "python",
   "pygments_lexer": "ipython3",
   "version": "3.10.0"
  }
 },
 "nbformat": 4,
 "nbformat_minor": 5
}

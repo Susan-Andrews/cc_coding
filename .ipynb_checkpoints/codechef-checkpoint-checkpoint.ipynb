{
 "cells": [
  {
   "cell_type": "markdown",
   "id": "c89304f3",
   "metadata": {},
   "source": [
    "# CODECHEF"
   ]
  },
  {
   "cell_type": "markdown",
   "id": "c5ca1d32",
   "metadata": {},
   "source": [
    "### Basics"
   ]
  },
  {
   "cell_type": "code",
   "execution_count": 12,
   "id": "4d5eeecc",
   "metadata": {},
   "outputs": [
    {
     "name": "stdout",
     "output_type": "stream",
     "text": [
      "30 + 20 = 50\n",
      "30 * 20 = 600\n",
      "30 + 20 = 50\n",
      "30 +   20.00 = 50 \n",
      "30 + 20 = 50\n"
     ]
    }
   ],
   "source": [
    "a=30\n",
    "b=20\n",
    "print(\"{} + {} = {}\".format(a,b,(a+b)))   #empty placeholder\n",
    "print(\"{0} * {1} = {2}\".format(a,b,(a*b))) # Numbered placeholder\n",
    "print(\"{firstn} + {secondn} = {res}\".format(firstn=a,secondn=b,res=(a+b))) # labelled placeholder\n",
    "print( \"%d +%8.2f = %d \"%(a,b,(a+b)))   #8.2 means 8 places , 2 for deci 1 for \" . \" and 5 for integer and here 3 place blank \n",
    "\n",
    "print(f\"{a} + {b} = {(a+b)}\")                 # main"
   ]
  },
  {
   "cell_type": "code",
   "execution_count": 13,
   "id": "b3fe65e7",
   "metadata": {},
   "outputs": [
    {
     "name": "stdout",
     "output_type": "stream",
     "text": [
      "50\n",
      "10\n",
      "600\n",
      "1.5\n",
      "1\n",
      "10\n",
      "348678440100000000000000000000\n"
     ]
    }
   ],
   "source": [
    "#arithmetic operators\n",
    "\n",
    "print(a + b)\n",
    "print(a - b)\n",
    "print(a * b)\n",
    "print(a / b)\n",
    "print(a // b)\n",
    "print(a % b)\n",
    "print(a ** b)"
   ]
  },
  {
   "cell_type": "code",
   "execution_count": 19,
   "id": "4d64ce9d",
   "metadata": {},
   "outputs": [
    {
     "name": "stdout",
     "output_type": "stream",
     "text": [
      "True\n",
      "False\n",
      "True\n",
      "True False\n"
     ]
    }
   ],
   "source": [
    "#logical operators\n",
    "\n",
    "print( 100 > 30 and 200 > 40 )\n",
    "print( 100 > 30 and 40 > 200 )\n",
    "print( 100 > 30 or 200 > 40 )\n",
    "print( 100 > 30,not(200 > 40) )\n"
   ]
  },
  {
   "cell_type": "code",
   "execution_count": 23,
   "id": "830104d8",
   "metadata": {},
   "outputs": [
    {
     "name": "stdout",
     "output_type": "stream",
     "text": [
      "ok we can pass if block\n"
     ]
    }
   ],
   "source": [
    "num=100\n",
    "if num % 10 !=0:\n",
    "    pass   # statement placeholder \n",
    "else:\n",
    "    print(\"ok we can pass if block\")"
   ]
  },
  {
   "cell_type": "code",
   "execution_count": 28,
   "id": "31a720da",
   "metadata": {},
   "outputs": [
    {
     "name": "stdout",
     "output_type": "stream",
     "text": [
      "10\n",
      "12\n",
      "14\n",
      "16\n",
      "18\n",
      "20\n",
      "22\n",
      "24\n"
     ]
    }
   ],
   "source": [
    "for i in range(10,25,2):         \n",
    "    print(i)"
   ]
  },
  {
   "cell_type": "code",
   "execution_count": 35,
   "id": "c314621e",
   "metadata": {},
   "outputs": [
    {
     "name": "stdout",
     "output_type": "stream",
     "text": [
      "i=  1\n",
      "i=  2\n",
      "i=  3\n",
      "i=  4\n",
      "i=  5\n",
      "i=  6\n",
      "i=  7\n",
      "i=  8\n",
      "i=  9\n",
      "i=  10\n",
      "Loop ok\n",
      "END\n"
     ]
    }
   ],
   "source": [
    " i=1\n",
    "while(i<=10):\n",
    "    print(\"i= \",i)\n",
    "    i+=1\n",
    "else:\n",
    "    print(\"Loop ok\")\n",
    "    \n",
    "            \n",
    "print(\"END\")    "
   ]
  },
  {
   "cell_type": "code",
   "execution_count": 1,
   "id": "74c3cf18",
   "metadata": {},
   "outputs": [
    {
     "name": "stdout",
     "output_type": "stream",
     "text": [
      "[11, 22, 33, 44, 'asdf', True] 6 <class 'list'> 2379515485888\n"
     ]
    }
   ],
   "source": [
    "list1=[11,22,33,44,\"asdf\",True] # List is mutable\n",
    "print(list1,len(list1),type(list1),id(list1))"
   ]
  },
  {
   "cell_type": "code",
   "execution_count": 13,
   "id": "e55cb219",
   "metadata": {},
   "outputs": [
    {
     "name": "stdout",
     "output_type": "stream",
     "text": [
      "(11, 22, 33, 44, 'asdf', True) 6 <class 'tuple'> 2379514755968\n"
     ]
    }
   ],
   "source": [
    "tuple1=(11,22,33,44,\"asdf\",True) # sets are immutable\n",
    "print(tuple1,len(tuple1), type(tuple1),id(tuple1))"
   ]
  },
  {
   "cell_type": "code",
   "execution_count": 3,
   "id": "20e3d348",
   "metadata": {},
   "outputs": [
    {
     "name": "stdout",
     "output_type": "stream",
     "text": [
      "{'apple': 120, 'mango': 140, 'banana': 130} 3 <class 'dict'> 2379515493504\n"
     ]
    }
   ],
   "source": [
    "dict1={\"apple\":120,\"mango\":140,\"banana\":130}\n",
    "print(dict1,len(dict1), type(dict1),id(dict1))"
   ]
  },
  {
   "cell_type": "code",
   "execution_count": 5,
   "id": "288fe1ae",
   "metadata": {},
   "outputs": [
    {
     "name": "stdout",
     "output_type": "stream",
     "text": [
      "{33, 66, True, 11, 44, 22, 55, 'hai'} 8 <class 'set'> 2379513540480\n"
     ]
    }
   ],
   "source": [
    "set1={11,33,True,22,44,55,66,22,44,55,66,\"hai\",True}\n",
    "print(set1,len(set1),type(set1),id(set1))\n"
   ]
  },
  {
   "cell_type": "code",
   "execution_count": 14,
   "id": "4d482816",
   "metadata": {},
   "outputs": [
    {
     "name": "stdout",
     "output_type": "stream",
     "text": [
      "[] 0 <class 'list'> 2379515111424\n",
      "() 0 <class 'tuple'> 2379437391984\n",
      "{} 0 <class 'dict'> 2379515524224\n",
      "{} 0 <class 'dict'> 2379515524160\n"
     ]
    }
   ],
   "source": [
    "list1=[]\n",
    "print(list1, len(list1), type(list1), id(list1))\n",
    "\n",
    "tuple1=()\n",
    "print(tuple1,len(tuple1),type(tuple1),id(tuple1))\n",
    "\n",
    "dict1={}\n",
    "print(dict1,len(dict1),type(dict1),id(dict1))\n",
    "\n",
    "set1={}\n",
    "print(set1,len(set1),type(set1),id(set1))"
   ]
  },
  {
   "cell_type": "code",
   "execution_count": 16,
   "id": "965ae802",
   "metadata": {},
   "outputs": [
    {
     "name": "stdout",
     "output_type": "stream",
     "text": [
      "100 2379437382096\n",
      "100 2379437378896\n",
      "200 2379437382096\n"
     ]
    }
   ],
   "source": [
    "num1=200\n",
    "num2=100\n",
    "print(num2,id(num1))\n",
    "print(num2,id(num2))\n",
    "num2=200\n",
    "print(num2,id(num2))"
   ]
  },
  {
   "cell_type": "code",
   "execution_count": 20,
   "id": "5104e50e",
   "metadata": {},
   "outputs": [
    {
     "name": "stdout",
     "output_type": "stream",
     "text": [
      "-6 2379533936720 -6 2379533938512\n",
      "\n",
      "2 2379437375760 2 2379437375760\n"
     ]
    }
   ],
   "source": [
    "var1=-6  #ids will remain same for multiple variables for values between -5 to 256\n",
    "var2=-6\n",
    "print(var1,id(var1),var2,id(var2))\n",
    "\n",
    "print(\"\")\n",
    "a=2\n",
    "b=2\n",
    "print(a,id(a),b,id(b))\n"
   ]
  },
  {
   "cell_type": "code",
   "execution_count": 27,
   "id": "d63a2d6e",
   "metadata": {},
   "outputs": [
    {
     "name": "stdout",
     "output_type": "stream",
     "text": [
      "part1=100, part2=200,part3=300..\n",
      "part1=100, part2=200,part3=333..\n",
      "part1=100, part2=222,part3=333..\n",
      "part1=111, part2=222,part3=333..\n"
     ]
    }
   ],
   "source": [
    "#functions with default arguments\n",
    "def functn4(part1=111,part2=222,part3=333):\n",
    "    print(f\"part1={part1}, part2={part2},part3={part3}..\")\n",
    "    \n",
    "functn4(100,200,300)\n",
    "functn4(100,200)\n",
    "functn4(100)\n",
    "functn4()"
   ]
  },
  {
   "cell_type": "code",
   "execution_count": 32,
   "id": "4b90f7ae",
   "metadata": {},
   "outputs": [
    {
     "name": "stdout",
     "output_type": "stream",
     "text": [
      "400\n",
      "900\n"
     ]
    }
   ],
   "source": [
    "def funct5(par1,par2=None):\n",
    "    if(par2 is None):               #is compares id , = compares value\n",
    "        return par1 + par1\n",
    "    else:\n",
    "        return par1 + par2\n",
    "print(funct5(200))\n",
    "print(funct5(100,800))"
   ]
  },
  {
   "cell_type": "code",
   "execution_count": 34,
   "id": "24d64b1f",
   "metadata": {},
   "outputs": [
    {
     "name": "stdout",
     "output_type": "stream",
     "text": [
      " total=500 , diff=-300 ,prod=40000 , quot=0.25\n"
     ]
    }
   ],
   "source": [
    "def functn6(num1,num2):\n",
    "    total=num1+num2\n",
    "    diff=num1-num2\n",
    "    prod=num1*num2\n",
    "    quot=num1/num2\n",
    "    return total,diff,prod,quot\n",
    "tt,dd,pp,qq=functn6(100,400)\n",
    "print(f\" total={tt} , diff={dd} ,prod={pp} , quot={qq}\")\n",
    "\n",
    "res=f"
   ]
  },
  {
   "cell_type": "code",
   "execution_count": null,
   "id": "0d2043be",
   "metadata": {},
   "outputs": [],
   "source": []
  },
  {
   "cell_type": "code",
   "execution_count": null,
   "id": "5a337d51",
   "metadata": {},
   "outputs": [],
   "source": []
  },
  {
   "cell_type": "code",
   "execution_count": null,
   "id": "bbcb3adf",
   "metadata": {},
   "outputs": [],
   "source": []
  }
 ],
 "metadata": {
  "kernelspec": {
   "display_name": "Python 3 (ipykernel)",
   "language": "python",
   "name": "python3"
  },
  "language_info": {
   "codemirror_mode": {
    "name": "ipython",
    "version": 3
   },
   "file_extension": ".py",
   "mimetype": "text/x-python",
   "name": "python",
   "nbconvert_exporter": "python",
   "pygments_lexer": "ipython3",
   "version": "3.10.0"
  }
 },
 "nbformat": 4,
 "nbformat_minor": 5
}
